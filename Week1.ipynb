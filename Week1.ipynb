{
  "nbformat": 4,
  "nbformat_minor": 0,
  "metadata": {
    "colab": {
      "provenance": [],
      "authorship_tag": "ABX9TyPXJ8jVlCKPAmwb0L3xSQAM",
      "include_colab_link": true
    },
    "kernelspec": {
      "name": "python3",
      "display_name": "Python 3"
    },
    "language_info": {
      "name": "python"
    }
  },
  "cells": [
    {
      "cell_type": "markdown",
      "metadata": {
        "id": "view-in-github",
        "colab_type": "text"
      },
      "source": [
        "<a href=\"https://colab.research.google.com/github/ikypakey/PCVK_Per1/blob/main/Week1.ipynb\" target=\"_parent\"><img src=\"https://colab.research.google.com/assets/colab-badge.svg\" alt=\"Open In Colab\"/></a>"
      ]
    },
    {
      "cell_type": "code",
      "execution_count": 5,
      "metadata": {
        "id": "rFYlGQrE-HkP"
      },
      "outputs": [],
      "source": [
        "#untuk manipulasi array dan komputasi numerik\n",
        "import numpy as np\n",
        "#untuk melakukan manipulasi data, analisis data\n",
        "import pandas as pd\n",
        "#untuk melakukan pengolahan imag\n",
        "import cv2 as cv\n",
        "#display image\n",
        "from google.colab.patches import cv2_imshow\n",
        "\n",
        "from skimage import io\n",
        "\n",
        "from skimage import transform\n",
        "\n",
        "from PIL import Image\n",
        "\n",
        "import matplotlib.pylab as plt\n",
        "\n",
        "\n",
        "\n"
      ]
    },
    {
      "cell_type": "code",
      "source": [],
      "metadata": {
        "id": "aODrqkVkLvcz"
      },
      "execution_count": null,
      "outputs": []
    },
    {
      "cell_type": "code",
      "source": [],
      "metadata": {
        "id": "LFE78OzVLvvk"
      },
      "execution_count": null,
      "outputs": []
    }
  ]
}