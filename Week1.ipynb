{
  "nbformat": 4,
  "nbformat_minor": 0,
  "metadata": {
    "colab": {
      "provenance": [],
      "authorship_tag": "ABX9TyM2FaX9wu1qliqqKwJqLjst",
      "include_colab_link": true
    },
    "kernelspec": {
      "name": "python3",
      "display_name": "Python 3"
    },
    "language_info": {
      "name": "python"
    }
  },
  "cells": [
    {
      "cell_type": "markdown",
      "metadata": {
        "id": "view-in-github",
        "colab_type": "text"
      },
      "source": [
        "<a href=\"https://colab.research.google.com/github/ikypakey/PCVK_Per1/blob/main/Week1.ipynb\" target=\"_parent\"><img src=\"https://colab.research.google.com/assets/colab-badge.svg\" alt=\"Open In Colab\"/></a>"
      ]
    },
    {
      "cell_type": "code",
      "execution_count": null,
      "metadata": {
        "id": "rFYlGQrE-HkP"
      },
      "outputs": [],
      "source": [
        "#untuk manipulasi array dan komputasi numerik\n",
        "import numpy as np\n",
        "\n",
        "import pandas as pd\n",
        "\n",
        "import cv2 as cv\n",
        "\n",
        "import google,colab.patches import cv2_imshow \n",
        "\n",
        "from skimage import io\n",
        "\n",
        "\n",
        "\n"
      ]
    }
  ]
}